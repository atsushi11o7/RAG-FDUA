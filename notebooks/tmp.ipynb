{
 "cells": [
  {
   "cell_type": "code",
   "execution_count": 9,
   "metadata": {},
   "outputs": [
    {
     "name": "stdout",
     "output_type": "stream",
     "text": [
      "'xxx社'を'東急不動産ホールディングス'に置き換えたファイルを/home/atsushi/repositories/RAG-FDUA/data/summarized_texts/16_summarized.csvとして保存しました。\n"
     ]
    }
   ],
   "source": [
    "def replace_xxx_in_file(input_file, output_file, replacement):\n",
    "    # ファイルを読み込み\n",
    "    with open(input_file, 'r', encoding='utf-8') as file:\n",
    "        content = file.read()\n",
    "    \n",
    "    # \"xxx社\"を置き換え\n",
    "    replaced_content = content.replace(\"xxx社\", replacement)\n",
    "    replaced_content = replaced_content.replace(\"xxxグループ\", replacement)\n",
    "    replaced_content = replaced_content.replace(\"xxx\", replacement)\n",
    "    \n",
    "    # 結果を新しいファイルに保存\n",
    "    with open(output_file, 'w', encoding='utf-8') as file:\n",
    "        file.write(replaced_content)\n",
    "    \n",
    "    print(f\"'xxx社'を'{replacement}'に置き換えたファイルを{output_file}として保存しました。\")\n",
    "\n",
    "# 使用例\n",
    "input_file = \"/home/atsushi/repositories/RAG-FDUA/data/tmp/16_summarized.csv\"  # 入力ファイル\n",
    "output_file = \"/home/atsushi/repositories/RAG-FDUA/data/summarized_texts/16_summarized.csv\"  # 出力ファイル\n",
    "replacement_text = \"東急不動産ホールディングス\"  # 置き換えたい文字列\n",
    "\n",
    "replace_xxx_in_file(input_file, output_file, replacement_text)\n"
   ]
  }
 ],
 "metadata": {
  "kernelspec": {
   "display_name": "venv",
   "language": "python",
   "name": "python3"
  },
  "language_info": {
   "codemirror_mode": {
    "name": "ipython",
    "version": 3
   },
   "file_extension": ".py",
   "mimetype": "text/x-python",
   "name": "python",
   "nbconvert_exporter": "python",
   "pygments_lexer": "ipython3",
   "version": "3.10.12"
  }
 },
 "nbformat": 4,
 "nbformat_minor": 2
}
