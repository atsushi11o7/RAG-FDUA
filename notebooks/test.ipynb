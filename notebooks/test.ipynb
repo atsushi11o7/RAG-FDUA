{
 "cells": [
  {
   "cell_type": "code",
   "execution_count": 1,
   "metadata": {},
   "outputs": [],
   "source": [
    "import os\n",
    "import sys\n",
    "from pathlib import Path\n",
    "\n",
    "repo_dir = Path.cwd().parents[0]\n",
    "if repo_dir.as_posix() not in sys.path:\n",
    "    sys.path.append(repo_dir.as_posix())"
   ]
  },
  {
   "cell_type": "code",
   "execution_count": 2,
   "metadata": {},
   "outputs": [],
   "source": [
    "from src.store import vectorize_faqs_from_csv"
   ]
  },
  {
   "cell_type": "code",
   "execution_count": 3,
   "metadata": {},
   "outputs": [
    {
     "name": "stderr",
     "output_type": "stream",
     "text": [
      "/home/atsushi/repositories/RAG-FDUA/src/store/vectorize.py:124: LangChainDeprecationWarning: The class `OpenAIEmbeddings` was deprecated in LangChain 0.0.9 and will be removed in 1.0. An updated version of the class exists in the :class:`~langchain-openai package and should be used instead. To use it run `pip install -U :class:`~langchain-openai` and import as `from :class:`~langchain_openai import OpenAIEmbeddings``.\n",
      "  embeddings = OpenAIEmbeddings(openai_api_key=openai_api_key, model=\"text-embedding-3-small\")\n",
      "2025-01-20 06:43:33,419 INFO:Anonymized telemetry enabled. See                     https://docs.trychroma.com/telemetry for more information.\n",
      "2025-01-20 06:43:35,558 INFO:HTTP Request: POST https://api.openai.com/v1/embeddings \"HTTP/1.1 200 OK\"\n",
      "/home/atsushi/repositories/RAG-FDUA/src/store/vectorize.py:87: LangChainDeprecationWarning: Since Chroma 0.4.x the manual persistence method is no longer supported as docs are automatically persisted.\n",
      "  vectorstore.persist()\n",
      "2025-01-20 06:43:36,475 INFO:[INFO] バッチを処理し、/home/atsushi/repositories/RAG-FDUA/data/vectorize_dir/faq_csv_1 に保存しました。\n",
      "2025-01-20 06:43:36,476 INFO:[INFO] バッチ 1 を処理しました。\n",
      "2025-01-20 06:44:39,288 INFO:HTTP Request: POST https://api.openai.com/v1/embeddings \"HTTP/1.1 200 OK\"\n",
      "2025-01-20 06:44:40,278 INFO:[INFO] バッチを処理し、/home/atsushi/repositories/RAG-FDUA/data/vectorize_dir/faq_csv_1 に保存しました。\n",
      "2025-01-20 06:44:40,279 INFO:[INFO] バッチ 2 を処理しました。\n",
      "2025-01-20 06:45:41,781 INFO:HTTP Request: POST https://api.openai.com/v1/embeddings \"HTTP/1.1 200 OK\"\n",
      "2025-01-20 06:45:42,432 INFO:[INFO] バッチを処理し、/home/atsushi/repositories/RAG-FDUA/data/vectorize_dir/faq_csv_1 に保存しました。\n",
      "2025-01-20 06:45:42,433 INFO:[INFO] バッチ 3 を処理しました。\n",
      "2025-01-20 06:46:44,230 INFO:HTTP Request: POST https://api.openai.com/v1/embeddings \"HTTP/1.1 200 OK\"\n",
      "2025-01-20 06:46:44,869 INFO:[INFO] バッチを処理し、/home/atsushi/repositories/RAG-FDUA/data/vectorize_dir/faq_csv_1 に保存しました。\n",
      "2025-01-20 06:46:44,869 INFO:[INFO] バッチ 4 を処理しました。\n",
      "2025-01-20 06:47:46,737 INFO:HTTP Request: POST https://api.openai.com/v1/embeddings \"HTTP/1.1 200 OK\"\n",
      "2025-01-20 06:47:47,498 INFO:[INFO] バッチを処理し、/home/atsushi/repositories/RAG-FDUA/data/vectorize_dir/faq_csv_1 に保存しました。\n",
      "2025-01-20 06:47:47,499 INFO:[INFO] バッチ 5 を処理しました。\n",
      "2025-01-20 06:48:49,817 INFO:HTTP Request: POST https://api.openai.com/v1/embeddings \"HTTP/1.1 200 OK\"\n",
      "2025-01-20 06:48:50,461 INFO:[INFO] バッチを処理し、/home/atsushi/repositories/RAG-FDUA/data/vectorize_dir/faq_csv_1 に保存しました。\n",
      "2025-01-20 06:48:50,461 INFO:[INFO] バッチ 6 を処理しました。\n",
      "2025-01-20 06:49:52,671 INFO:HTTP Request: POST https://api.openai.com/v1/embeddings \"HTTP/1.1 200 OK\"\n",
      "2025-01-20 06:49:53,306 INFO:[INFO] バッチを処理し、/home/atsushi/repositories/RAG-FDUA/data/vectorize_dir/faq_csv_1 に保存しました。\n",
      "2025-01-20 06:49:53,307 INFO:[INFO] バッチ 7 を処理しました。\n",
      "2025-01-20 06:50:54,737 INFO:HTTP Request: POST https://api.openai.com/v1/embeddings \"HTTP/1.1 200 OK\"\n",
      "2025-01-20 06:50:55,375 INFO:[INFO] バッチを処理し、/home/atsushi/repositories/RAG-FDUA/data/vectorize_dir/faq_csv_1 に保存しました。\n",
      "2025-01-20 06:50:55,375 INFO:[INFO] バッチ 8 を処理しました。\n",
      "2025-01-20 06:51:56,796 INFO:HTTP Request: POST https://api.openai.com/v1/embeddings \"HTTP/1.1 200 OK\"\n",
      "2025-01-20 06:51:57,724 INFO:[INFO] バッチを処理し、/home/atsushi/repositories/RAG-FDUA/data/vectorize_dir/faq_csv_1 に保存しました。\n",
      "2025-01-20 06:51:57,724 INFO:[INFO] バッチ 9 を処理しました。\n",
      "2025-01-20 06:52:59,405 INFO:HTTP Request: POST https://api.openai.com/v1/embeddings \"HTTP/1.1 200 OK\"\n",
      "2025-01-20 06:53:00,089 INFO:[INFO] バッチを処理し、/home/atsushi/repositories/RAG-FDUA/data/vectorize_dir/faq_csv_1 に保存しました。\n",
      "2025-01-20 06:53:00,090 INFO:[INFO] バッチ 10 を処理しました。\n",
      "2025-01-20 06:54:01,958 INFO:HTTP Request: POST https://api.openai.com/v1/embeddings \"HTTP/1.1 200 OK\"\n",
      "2025-01-20 06:54:02,627 INFO:[INFO] バッチを処理し、/home/atsushi/repositories/RAG-FDUA/data/vectorize_dir/faq_csv_1 に保存しました。\n",
      "2025-01-20 06:54:02,628 INFO:[INFO] バッチ 11 を処理しました。\n",
      "2025-01-20 06:55:04,868 INFO:HTTP Request: POST https://api.openai.com/v1/embeddings \"HTTP/1.1 200 OK\"\n",
      "2025-01-20 06:55:05,874 INFO:[INFO] バッチを処理し、/home/atsushi/repositories/RAG-FDUA/data/vectorize_dir/faq_csv_1 に保存しました。\n",
      "2025-01-20 06:55:05,874 INFO:[INFO] バッチ 12 を処理しました。\n",
      "2025-01-20 06:56:08,150 INFO:HTTP Request: POST https://api.openai.com/v1/embeddings \"HTTP/1.1 200 OK\"\n",
      "2025-01-20 06:56:09,113 INFO:[INFO] バッチを処理し、/home/atsushi/repositories/RAG-FDUA/data/vectorize_dir/faq_csv_1 に保存しました。\n",
      "2025-01-20 06:56:09,114 INFO:[INFO] バッチ 13 を処理しました。\n",
      "2025-01-20 06:57:11,008 INFO:HTTP Request: POST https://api.openai.com/v1/embeddings \"HTTP/1.1 200 OK\"\n",
      "2025-01-20 06:57:11,955 INFO:[INFO] バッチを処理し、/home/atsushi/repositories/RAG-FDUA/data/vectorize_dir/faq_csv_1 に保存しました。\n",
      "2025-01-20 06:57:11,956 INFO:[INFO] バッチ 14 を処理しました。\n",
      "2025-01-20 06:58:14,178 INFO:HTTP Request: POST https://api.openai.com/v1/embeddings \"HTTP/1.1 200 OK\"\n",
      "2025-01-20 06:58:14,976 INFO:[INFO] バッチを処理し、/home/atsushi/repositories/RAG-FDUA/data/vectorize_dir/faq_csv_1 に保存しました。\n",
      "2025-01-20 06:58:14,977 INFO:[INFO] バッチ 15 を処理しました。\n",
      "2025-01-20 06:59:16,926 INFO:HTTP Request: POST https://api.openai.com/v1/embeddings \"HTTP/1.1 200 OK\"\n",
      "2025-01-20 06:59:17,561 INFO:[INFO] バッチを処理し、/home/atsushi/repositories/RAG-FDUA/data/vectorize_dir/faq_csv_1 に保存しました。\n",
      "2025-01-20 06:59:17,562 INFO:[INFO] バッチ 16 を処理しました。\n",
      "2025-01-20 07:00:19,653 INFO:HTTP Request: POST https://api.openai.com/v1/embeddings \"HTTP/1.1 200 OK\"\n",
      "2025-01-20 07:00:20,580 INFO:[INFO] バッチを処理し、/home/atsushi/repositories/RAG-FDUA/data/vectorize_dir/faq_csv_1 に保存しました。\n",
      "2025-01-20 07:00:20,581 INFO:[INFO] バッチ 17 を処理しました。\n",
      "2025-01-20 07:01:21,290 INFO:HTTP Request: POST https://api.openai.com/v1/embeddings \"HTTP/1.1 200 OK\"\n",
      "2025-01-20 07:01:21,811 INFO:[INFO] バッチを処理し、/home/atsushi/repositories/RAG-FDUA/data/vectorize_dir/faq_csv_1 に保存しました。\n",
      "2025-01-20 07:01:21,812 INFO:[INFO] バッチ 18 を処理しました。\n",
      "2025-01-20 07:02:21,872 INFO:[INFO] すべてのドキュメントがベクトル化され、保存されました。\n",
      "/home/atsushi/repositories/RAG-FDUA/src/store/vectorize.py:203: LangChainDeprecationWarning: The class `Chroma` was deprecated in LangChain 0.2.9 and will be removed in 1.0. An updated version of the class exists in the :class:`~langchain-chroma package and should be used instead. To use it run `pip install -U :class:`~langchain-chroma` and import as `from :class:`~langchain_chroma import Chroma``.\n",
      "  vectorstore = Chroma(\n"
     ]
    }
   ],
   "source": [
    "csv_dir = repo_dir.joinpath(\"data\", \"summarized_texts\")  # フォーマット済みテキストファイルのディレクトリ\n",
    "vector_store_dir = repo_dir.joinpath(\"data\", \"vectorize_dir\", \"faq_csv_1\")        # ベクトルストアの保存先ディレクトリ\n",
    "collection_name = \"faq_csv_1\"                # Chromaコレクション名\n",
    "\n",
    "retriever = vectorize_faqs_from_csv(\n",
    "    csv_dir=str(csv_dir),\n",
    "    vector_store_dir=str(vector_store_dir),\n",
    "    collection_name=str(collection_name)\n",
    ")"
   ]
  },
  {
   "cell_type": "code",
   "execution_count": 12,
   "metadata": {},
   "outputs": [],
   "source": [
    "import os\n",
    "import sys\n",
    "import time\n",
    "from pathlib import Path\n",
    "from dotenv import load_dotenv\n",
    "from typing import List, Dict\n",
    "import pandas as pd\n",
    "import tiktoken\n",
    "\n",
    "from langchain.docstore.document import Document\n",
    "from langchain.embeddings.openai import OpenAIEmbeddings\n",
    "from langchain.vectorstores import Chroma\n",
    "from langchain.text_splitter import RecursiveCharacterTextSplitter\n",
    "import logging  # ロギングのインポート\n",
    "\n",
    "def retrieve(state: dict, retriever, top_k: int = 5) -> dict:\n",
    "    \"\"\"\n",
    "    Retrieve documents based on the question in the state.\n",
    "\n",
    "    Args:\n",
    "        state (dict): The current graph state containing the question.\n",
    "        retriever: The retriever object for vectorized document search.\n",
    "        top_k (int): Number of top documents to retrieve.\n",
    "\n",
    "    Returns:\n",
    "        dict: Updated state with retrieved documents.\n",
    "    \"\"\"\n",
    "    print(\"---RETRIEVE---\")\n",
    "    \n",
    "    # Ensure the question exists in the state\n",
    "    question = state.get(\"question\")\n",
    "    if not question:\n",
    "        raise ValueError(\"The state must contain a 'question' key with a valid question string.\")\n",
    "\n",
    "    try:\n",
    "        # Retrieve relevant documents using the retriever\n",
    "        logging.info(f\"[INFO] Retrieving top {top_k} documents for the question: {question}\")\n",
    "        results = retriever.get_relevant_documents(question)\n",
    "        \n",
    "        # Format the retrieved documents for the state\n",
    "        retrieved_docs = [\n",
    "            {\n",
    "                \"content\": doc.page_content,\n",
    "                \"metadata\": doc.metadata\n",
    "            }\n",
    "            for doc in results[:top_k]\n",
    "        ]\n",
    "\n",
    "        # Update the state with the retrieved documents\n",
    "        state[\"retrieved_documents\"] = retrieved_docs\n",
    "        logging.info(f\"[INFO] Retrieved {len(retrieved_docs)} documents for the question.\")\n",
    "        return state  # 明確に state を返す\n",
    "\n",
    "    except Exception as e:\n",
    "        logging.error(f\"[ERROR] Failed to retrieve documents: {e}\")\n",
    "        state[\"retrieved_documents\"] = []\n",
    "        return state  # エラー時にも state を返す\n",
    "\n"
   ]
  },
  {
   "cell_type": "code",
   "execution_count": 14,
   "metadata": {},
   "outputs": [
    {
     "name": "stderr",
     "output_type": "stream",
     "text": [
      "2025-01-20 07:21:55,319 INFO:[INFO] Retrieving top 5 documents for the question: IHIグループの経営目標の進捗の2022年度と2023年度を比較したとき、営業利益率と税引後ROICではどちらの方が差が大きいか\n"
     ]
    },
    {
     "name": "stdout",
     "output_type": "stream",
     "text": [
      "---RETRIEVE---\n"
     ]
    },
    {
     "name": "stderr",
     "output_type": "stream",
     "text": [
      "2025-01-20 07:21:55,836 INFO:HTTP Request: POST https://api.openai.com/v1/embeddings \"HTTP/1.1 200 OK\"\n",
      "2025-01-20 07:21:55,845 INFO:[INFO] Retrieved 4 documents for the question.\n"
     ]
    },
    {
     "name": "stdout",
     "output_type": "stream",
     "text": [
      "[{'content': '質問: 日本の家電商品の修理サービスはどの会社が担当していますか？\\n回答: 日本の家電商品の修理サービスは、パナソニック マーケティングジャパン（株）内のCS社（修理・部品サービス部門）が担当しています。', 'metadata': {'file_name': '10', 'page_number': 119}}, {'content': '質問: 取締役および監査役の候補者はどのように決定されますか？\\n回答: 取締役および監査役の候補者は、指名・報酬委員会の協議を経て取締役会で決定され、株主総会に提案する際には選定理由が説明されます。', 'metadata': {'file_name': '15', 'page_number': 33}}, {'content': '質問: パナソニック株式会社の社員の健康支援に関する具体的な取り組みは何ですか？\\n回答: パナソニック株式会社では、産業医・産業保健スタッフが常駐する健康管理室を設置し、生活習慣病予防や禁煙等の健康支援を行っています。', 'metadata': {'file_name': '10', 'page_number': 104}}, {'content': '質問: パナソニックグループが中国での廃旧家電回収目標責任制度にどのように対応しているか？\\n回答: パナソニックグループは、2017年1月に政府より公布された生産者責任延伸制度推進方案や、2020年9月に施行された固体廃棄物環境汚染防止法などの関連政策に注目し、対応検討を進めています。\\n\\n質問: パナソニックグループがサプライチェーン連携において重視している環境課題は何ですか？\\n回答: パナソニックグループは、製品や部品の再利用の強化、製品のリサイクル性を改善する方法について、グループ内での議論をさらに強化しています。', 'metadata': {'file_name': '10', 'page_number': 54}}]\n"
     ]
    }
   ],
   "source": [
    "# 仮の状態を用意\n",
    "state = {\n",
    "    \"question\": \"IHIグループの経営目標の進捗の2022年度と2023年度を比較したとき、営業利益率と税引後ROICではどちらの方が差が大きいか\"\n",
    "}\n",
    "\n",
    "vector_store_dir = str(repo_dir.joinpath(\"data\", \"vectorize_dir\", \"faq_csv_1\"))        # ベクトルストアの保存先ディレクトリ\n",
    "collection_name = \"faq_csv_1\"   \n",
    "\n",
    "retriever = Chroma(\n",
    "    persist_directory=vector_store_dir,\n",
    "    collection_name=collection_name,\n",
    "    embedding_function=OpenAIEmbeddings(openai_api_key=os.getenv(\"OPENAI_API_KEY\"))\n",
    ").as_retriever()\n",
    "\n",
    "# 関数を呼び出し\n",
    "updated_state = retrieve(state, retriever)\n",
    "\n",
    "# 結果の確認\n",
    "print(updated_state[\"retrieved_documents\"])"
   ]
  }
 ],
 "metadata": {
  "kernelspec": {
   "display_name": "venv",
   "language": "python",
   "name": "python3"
  },
  "language_info": {
   "codemirror_mode": {
    "name": "ipython",
    "version": 3
   },
   "file_extension": ".py",
   "mimetype": "text/x-python",
   "name": "python",
   "nbconvert_exporter": "python",
   "pygments_lexer": "ipython3",
   "version": "3.10.12"
  }
 },
 "nbformat": 4,
 "nbformat_minor": 2
}
