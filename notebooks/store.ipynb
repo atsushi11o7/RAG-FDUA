{
 "cells": [
  {
   "cell_type": "code",
   "execution_count": null,
   "metadata": {},
   "outputs": [],
   "source": [
    "import os\n",
    "import sys\n",
    "from pathlib import Path\n",
    "\n",
    "repo_dir = Path.cwd().parents[0]\n",
    "if repo_dir.as_posix() not in sys.path:\n",
    "    sys.path.append(repo_dir.as_posix())"
   ]
  },
  {
   "cell_type": "markdown",
   "metadata": {},
   "source": [
    "# load pdf test"
   ]
  },
  {
   "cell_type": "code",
   "execution_count": null,
   "metadata": {},
   "outputs": [],
   "source": [
    "from src.store import load_pdfs, load_pdfs_use_pypdfium2"
   ]
  },
  {
   "cell_type": "code",
   "execution_count": null,
   "metadata": {},
   "outputs": [],
   "source": [
    "def load_pdfs_test(pdfs_path):\n",
    "    input_path = pdfs_path\n",
    "\n",
    "    pdf_file_paths = [\n",
    "        os.path.join(input_path, f)\n",
    "        for f in os.listdir(input_path)\n",
    "        if f.endswith(\".pdf\")\n",
    "    ]\n",
    "\n",
    "    pdf_data_list = load_pdfs_use_pypdfium2(pdf_file_paths)\n",
    "\n",
    "    for item in pdf_data_list:\n",
    "        print(\"====== ファイル名:\", item[\"file_name\"], \"======\")\n",
    "        print(\"[1ページ目の情報]\")\n",
    "        print(\"  page_number:\", item[\"first_page\"].metadata[\"page_number\"])\n",
    "        print(\"  content:\", item[\"first_page\"].page_content)\n",
    "        \n",
    "        print(\"[2ページ目以降]\")\n",
    "        for doc in item[\"other_pages\"]:\n",
    "            print(\"  page_number:\", doc.metadata[\"page_number\"])\n",
    "            print(\"  content:\", doc.page_content)\n",
    "        \n",
    "    return pdf_data_list"
   ]
  },
  {
   "cell_type": "code",
   "execution_count": null,
   "metadata": {},
   "outputs": [],
   "source": [
    "load_pdfs_test(repo_dir.joinpath(\"data\", \"documents\"))"
   ]
  },
  {
   "cell_type": "markdown",
   "metadata": {},
   "source": [
    "# Preprocessing"
   ]
  },
  {
   "cell_type": "code",
   "execution_count": null,
   "metadata": {},
   "outputs": [],
   "source": [
    "from src.store import format_texts_with_gpt4o"
   ]
  },
  {
   "cell_type": "code",
   "execution_count": null,
   "metadata": {},
   "outputs": [],
   "source": [
    "pdfs_path = repo_dir.joinpath(\"data\", \"documents\")\n",
    "\n",
    "pdf_file_paths = [\n",
    "    os.path.join(pdfs_path, f)\n",
    "    for f in os.listdir(pdfs_path)\n",
    "    if f.endswith(\".pdf\")\n",
    "]\n",
    "\n",
    "pdf_data_list = load_pdfs_use_pypdfium2(pdf_file_paths)\n",
    "\n",
    "format_texts_with_gpt4o(pdf_data_list, output_dir=repo_dir.joinpath(\"data\", \"formatted_texts\"))"
   ]
  },
  {
   "cell_type": "markdown",
   "metadata": {},
   "source": [
    "# FAQ"
   ]
  },
  {
   "cell_type": "code",
   "execution_count": null,
   "metadata": {},
   "outputs": [],
   "source": [
    "from src.store import load_pdfs, load_pdfs_use_pypdfium2\n",
    "from src.store import summarize_formatted_texts_with_gpt4o, summarize_texts_with_gpt4o"
   ]
  },
  {
   "cell_type": "code",
   "execution_count": null,
   "metadata": {},
   "outputs": [],
   "source": [
    "pdfs_path = repo_dir.joinpath(\"data\", \"documents\")\n",
    "\n",
    "pdf_file_paths = [\n",
    "    os.path.join(pdfs_path, f)\n",
    "    for f in os.listdir(pdfs_path)\n",
    "    if f.endswith(\".pdf\")\n",
    "]\n",
    "\n",
    "pdf_data_list = load_pdfs_use_pypdfium2(pdf_file_paths)\n",
    "summarize_texts_with_gpt4o(pdf_data_list, repo_dir.joinpath(\"data\", \"summarized_texts\"))"
   ]
  },
  {
   "cell_type": "markdown",
   "metadata": {},
   "source": [
    "# Extract words"
   ]
  },
  {
   "cell_type": "code",
   "execution_count": null,
   "metadata": {},
   "outputs": [],
   "source": [
    "from src.store import extract_words_with_llmchain"
   ]
  },
  {
   "cell_type": "code",
   "execution_count": null,
   "metadata": {},
   "outputs": [],
   "source": [
    "csv_dir = repo_dir.joinpath(\"data\", \"summarized_texts\")\n",
    "\n",
    "csv_file_paths = [\n",
    "    os.path.join(csv_dir, f)\n",
    "    for f in os.listdir(csv_dir)\n",
    "    if f.endswith(\".csv\")\n",
    "]\n",
    "\n",
    "extract_words_with_llmchain(csv_file_paths, str(repo_dir.joinpath(\"data\", \"words.json\")))"
   ]
  },
  {
   "cell_type": "markdown",
   "metadata": {},
   "source": [
    "# Vectorize"
   ]
  },
  {
   "cell_type": "markdown",
   "metadata": {},
   "source": [
    "## Process Json data"
   ]
  },
  {
   "cell_type": "code",
   "execution_count": null,
   "metadata": {},
   "outputs": [],
   "source": [
    "from src.store import process_and_build_json_vector_store"
   ]
  },
  {
   "cell_type": "code",
   "execution_count": null,
   "metadata": {},
   "outputs": [],
   "source": [
    "vector_store_dir = str(repo_dir.joinpath(\"data\", \"vectorize_dir\", \"words\"))        # ベクトルストアの保存先ディレクトリ\n",
    "collection_name = \"words\" \n",
    "\n",
    "vectorize_json = False\n",
    "if vectorize_json:\n",
    "    process_and_build_json_vector_store(\n",
    "        json_file=\"/home/atsushi/repositories/RAG-FDUA/data/words.json\",\n",
    "        vector_store_dir=vector_store_dir,\n",
    "        collection_name=collection_name)"
   ]
  },
  {
   "cell_type": "code",
   "execution_count": null,
   "metadata": {},
   "outputs": [],
   "source": [
    "from src.retrieve import retrieve_vector_store"
   ]
  },
  {
   "cell_type": "code",
   "execution_count": null,
   "metadata": {},
   "outputs": [],
   "source": [
    "query = \"東洋エンジニアリングの独自開発のスケジュール最適化システムの名前は？\"\n",
    "shortened_query = query[:20]\n",
    "results = retrieve_vector_store(\n",
    "    query=shortened_query,\n",
    "    vector_store_dir=vector_store_dir,\n",
    "    collection_name=collection_name,\n",
    "    top_k=3,\n",
    "    calculate_score=True\n",
    ")\n",
    "\n",
    "print(\"[JSONベクトルストア] 検索結果:\")\n",
    "for i, result in enumerate(results, start=1):\n",
    "    print(f\"{i}: コンテンツ: {result['content']}\")\n",
    "    print(f\"   ファイル名: {result['file_name']}\")\n",
    "    print(f\"   類似度スコア: {result['similarity']}\")"
   ]
  },
  {
   "cell_type": "markdown",
   "metadata": {},
   "source": [
    "## build bi-vector stores"
   ]
  },
  {
   "cell_type": "code",
   "execution_count": null,
   "metadata": {},
   "outputs": [],
   "source": [
    "from src.store import build_bi_vector_stores\n",
    "from src.retrieve import retrieve_vector_store"
   ]
  },
  {
   "cell_type": "code",
   "execution_count": null,
   "metadata": {},
   "outputs": [],
   "source": [
    "csv_dir = repo_dir.joinpath(\"data\", \"summarized_texts\")\n",
    "csv_file_paths = [\n",
    "    os.path.join(csv_dir, f)\n",
    "    for f in os.listdir(csv_dir)\n",
    "    if f.endswith(\".csv\")\n",
    "]   \n",
    "\n",
    "output_dir = repo_dir.joinpath(\"data\", \"vectorize_dir\", \"bi-faq\")\n",
    "\n",
    "vectorize_bi_faq = False\n",
    "if vectorize_bi_faq:\n",
    "    for csv_file_path in csv_file_paths:\n",
    "        build_bi_vector_stores(\n",
    "            csv_file=csv_file_path,\n",
    "            output_dir=output_dir\n",
    "        )"
   ]
  },
  {
   "cell_type": "code",
   "execution_count": null,
   "metadata": {},
   "outputs": [],
   "source": [
    "query = \"4℃ホールディングスの2024年2月29日現在の連結での従業員数は何名か。\"\n",
    "vector_store_dir = \"/home/atsushi/repositories/RAG-FDUA/data/vectorize_dir/bi-faq/1_summarized/faq_question\"\n",
    "results = retrieve_vector_store(\n",
    "    query=query,\n",
    "    vector_store_dir=vector_store_dir,\n",
    "    top_k=3,\n",
    "    calculate_score=True\n",
    ")\n",
    "\n",
    "print(\"[JSONベクトルストア] 検索結果:\")\n",
    "for i, result in enumerate(results, start=1):\n",
    "    print(f\"{i}: コンテンツ: {result['content']}\")\n",
    "    print(f\"   ファイル名: {result['file_name']}\")\n",
    "    print(f\"   類似度スコア: {result['similarity']}\")"
   ]
  },
  {
   "cell_type": "code",
   "execution_count": null,
   "metadata": {},
   "outputs": [],
   "source": []
  },
  {
   "cell_type": "code",
   "execution_count": null,
   "metadata": {},
   "outputs": [],
   "source": [
    "from src.store import vectorize_faqs_from_csv"
   ]
  },
  {
   "cell_type": "code",
   "execution_count": null,
   "metadata": {},
   "outputs": [],
   "source": [
    "formatted_texts_dir = repo_dir.joinpath(\"data\", \"formatted_texts\")  # フォーマット済みテキストファイルのディレクトリ\n",
    "vector_store_dir = repo_dir.joinpath(\"data\", \"vectorize_dir\", \"ver1\")        # ベクトルストアの保存先ディレクトリ\n",
    "collection_name = \"pdf_pages_ver1\"                # Chromaコレクション名\n",
    "\n",
    "retriever = vectorize_faqs_from_csv(\n",
    "    formatted_texts_dir=str(formatted_texts_dir),\n",
    "    vector_store_dir=str(vector_store_dir),\n",
    "    collection_name=str(collection_name)\n",
    ")"
   ]
  }
 ],
 "metadata": {
  "kernelspec": {
   "display_name": "venv",
   "language": "python",
   "name": "python3"
  },
  "language_info": {
   "codemirror_mode": {
    "name": "ipython",
    "version": 3
   },
   "file_extension": ".py",
   "mimetype": "text/x-python",
   "name": "python",
   "nbconvert_exporter": "python",
   "pygments_lexer": "ipython3",
   "version": "3.10.12"
  }
 },
 "nbformat": 4,
 "nbformat_minor": 2
}
